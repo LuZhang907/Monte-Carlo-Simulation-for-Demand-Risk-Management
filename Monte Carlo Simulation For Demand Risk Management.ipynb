{
 "cells": [
  {
   "cell_type": "markdown",
   "id": "4ba62d9d-f427-412a-b9b9-1d995f645079",
   "metadata": {},
   "source": [
    "## Monte Carlo Simulation for Demand Risk Management\n",
    "\n",
    "Monte Carlo simulations can be used to quantify and minimize the risk of fluctuating demand on inventory levels, production schedules, and profitability. Here is an example of how this could be applied in a data storage company.\n",
    "\n",
    "**Scenario**:\n",
    "\n",
    "We want to analyze the impact of different demand scenarios on inventory levels, production schedules, and profitability over the next quarter. The Key variables include:\n",
    "\n",
    "* Demand: Uncertain and can very each month.\n",
    "* Production Capacity: Fixed, but can adjust schedules based on demand.\n",
    "* Inventory Costs: Holding too much or too little inventory has cost implications.\n",
    "* Profit Margins: Impacted by sales vales volume, production costs, and inventory levels.\n",
    "\n",
    "**Steps to Implement Monte Carlo Simulation**\n",
    "\n",
    "* 1. Define the variables:\n",
    " \n",
    "     - Demand: Assume demand follows a normal distribution with a mean ($\\mu$) and standard deviation ($\\sigma$) based on historical data.\n",
    "     - Production Capacity: Fixed number of units per month.\n",
    "     - Inventory Costs: Include both holding costs and stockout costs.\n",
    "     - Profit Margins: Dependent on the number of units sold and cost per unit.\n",
    " \n",
    "* 2. Set up the Simulation:\n",
    " \n",
    "     - Run multiple simulations where demand varies each month.\n",
    "     - Adjust production schedules dynamically based on simulated demand.\n",
    "     - Track inventory levels, costs, and profitability across all simulations.\n",
    " \n",
    "\n",
    "* 3. Analyze the Results:\n",
    " \n",
    "     - Assess the risk of stockouts, excess inventory, and impact on profitability.\n",
    "     - Identify strategies to minimize these risks (e.g., adjusting safety stock levels, flexible production scheduling).\n"
   ]
  },
  {
   "cell_type": "code",
   "execution_count": 1,
   "id": "f5e2e395-3031-4fa5-bb63-1ee74a9f46bd",
   "metadata": {},
   "outputs": [],
   "source": [
    "import numpy as np\n",
    "import matplotlib.pyplot as plt"
   ]
  },
  {
   "cell_type": "code",
   "execution_count": 2,
   "id": "1d03dcec-a269-473c-96a0-717ad075123f",
   "metadata": {},
   "outputs": [],
   "source": [
    "# Parameters\n",
    "num_simulations = 10000\n",
    "months = 3\n",
    "initial_inventory = 1000\n",
    "production_capacity = 800\n",
    "holding_cost_per_unit = 2\n",
    "stockout_cost_per_unit = 10\n",
    "profit_margin_per_unit = 50 "
   ]
  },
  {
   "cell_type": "code",
   "execution_count": 3,
   "id": "da3ece47-5cb0-4eba-95ad-951e288038e0",
   "metadata": {},
   "outputs": [],
   "source": [
    "# Demand parameter \n",
    "demand_mean = 900\n",
    "demand_std_dev = 100"
   ]
  },
  {
   "cell_type": "code",
   "execution_count": 4,
   "id": "358f9b6f-6b8f-4bce-99f4-d8721bad72cc",
   "metadata": {},
   "outputs": [],
   "source": [
    "# Arrays to store results\n",
    "profitability = []\n",
    "ending_inventory = []"
   ]
  },
  {
   "cell_type": "code",
   "execution_count": 8,
   "id": "83286e21-6f76-4071-81a7-f0b740236f4b",
   "metadata": {},
   "outputs": [],
   "source": [
    "for _ in range(num_simulations):\n",
    "    inventory = initial_inventory\n",
    "    total_profit = 0\n",
    "    \n",
    "    for month in range(months):\n",
    "        # Simulate demand\n",
    "        demand = np.random.normal(demand_mean, demand_std_dev)\n",
    "        \n",
    "        # Production decision\n",
    "        production = production_capacity\n",
    "        \n",
    "        # Inventory management\n",
    "        inventory += production - demand\n",
    "        \n",
    "        # Calculate costs\n",
    "        if inventory < 0:  # Stockout scenario\n",
    "            stockout_cost = -inventory * stockout_cost_per_unit\n",
    "            total_profit -= stockout_cost\n",
    "            inventory = 0  # Reset inventory to 0 since stockout occurred\n",
    "        else:\n",
    "            holding_cost = inventory * holding_cost_per_unit\n",
    "            total_profit -= holding_cost\n",
    "        \n",
    "        # Calculate profit for the month\n",
    "        sales = min(demand, production + inventory)\n",
    "        monthly_profit = sales * profit_margin_per_unit\n",
    "        total_profit += monthly_profit\n",
    "    \n",
    "    # Store results\n",
    "    profitability.append(total_profit)\n",
    "    ending_inventory.append(inventory)"
   ]
  },
  {
   "cell_type": "code",
   "execution_count": 14,
   "id": "6a82e293-7ac4-4058-8ef6-6b99ba03797d",
   "metadata": {},
   "outputs": [],
   "source": [
    "# Convert results to numpy arrays for analysis\n",
    "profitability = np.array(profitability)\n",
    "ending_inventory = np.array(ending_inventory)"
   ]
  },
  {
   "cell_type": "code",
   "execution_count": 15,
   "id": "03d77c3b-09c7-413c-8d10-972a9d1789a1",
   "metadata": {},
   "outputs": [],
   "source": [
    "# analyze the results\n",
    "average_profit = np.mean(profitability)\n",
    "risk_of_stockouts = np.sum(ending_inventory<0)/num_simulations\n",
    "average_ending_inventory = np.mean(ending_inventory)"
   ]
  },
  {
   "cell_type": "code",
   "execution_count": 16,
   "id": "33cf5574-a7db-45a9-bda6-8892ea767648",
   "metadata": {},
   "outputs": [
    {
     "name": "stdout",
     "output_type": "stream",
     "text": [
      "Average Profit: $130093.79\n",
      "Risk of Stockouts: 0.00%\n",
      "Average Ending Inventory: 701.42 units\n"
     ]
    }
   ],
   "source": [
    "print(f\"Average Profit: ${average_profit:.2f}\")\n",
    "print(f\"Risk of Stockouts: {risk_of_stockouts:.2%}\")\n",
    "print(f\"Average Ending Inventory: {average_ending_inventory:.2f} units\")"
   ]
  },
  {
   "cell_type": "code",
   "execution_count": 17,
   "id": "c47ce1be-ca7b-43b9-b3e2-e6d040b7485c",
   "metadata": {},
   "outputs": [
    {
     "data": {
      "image/png": "[encoded data removed]",
      "text/plain": [
       "<Figure size 640x480 with 1 Axes>"
      ]
     },
     "metadata": {},
     "output_type": "display_data"
    }
   ],
   "source": [
    "# Visualize the distribution of profitability\n",
    "plt.hist(profitability, bins=50, color='skyblue', edgecolor='black')\n",
    "plt.title(\"Distribution of Profitability\")\n",
    "plt.xlabel(\"Profit ($)\")\n",
    "plt.ylabel(\"Frequency\")\n",
    "plt.show()"
   ]
  },
  {
   "cell_type": "code",
   "execution_count": 18,
   "id": "7f5ac4fd-55c3-4d04-a62a-78768b4d0cc6",
   "metadata": {},
   "outputs": [
    {
     "data": {
      "image/png": "[encoded data removed]",
      "text/plain": [
       "<Figure size 640x480 with 1 Axes>"
      ]
     },
     "metadata": {},
     "output_type": "display_data"
    }
   ],
   "source": [
    "# Visualize the ending inventory distribution\n",
    "plt.hist(ending_inventory, bins=50, color='lightgreen', edgecolor='black')\n",
    "plt.title(\"Distribution of Ending Inventory Levels\")\n",
    "plt.xlabel(\"Ending Inventory (Units)\")\n",
    "plt.ylabel(\"Frequency\")\n",
    "plt.show()"
   ]
  },
  {
   "cell_type": "markdown",
   "id": "beaf0a11-bc00-4dfb-b3bc-a1316defc614",
   "metadata": {},
   "source": [
    "## Summarize:\n",
    "\n",
    "* 1. Simulation Setup:\n",
    " \n",
    "     - Simulate demand over three months, assuming it following a normal distribution.\n",
    "     - Production is fixed, but inventory levels fluctuate based on demand.\n",
    "     - Costs are incurred based on holding excess inventory or running into stockouts.\n",
    "    \n",
    "* 2. Profit Calculation:\n",
    " \n",
    "     - Profit is calculated based on units sold minus costs (holding and stockout costs)\n",
    "     - The simulation runs 10000 iterations to account for various demand scenarios.\n",
    "\n",
    "* 3. Results Analysis:\n",
    "\n",
    "     - Average Profit: Helps assess the xpected profitability under uncertain demand.\n",
    "     - Risk of Stockouts: Indicates how often the company might run out of stock, leading to lost sales and customer dissatisfaction.\n",
    "     - Average Ending Inventory: Provides insights into how much inventory is typically left at the end of the period."
   ]
  },
  {
   "cell_type": "markdown",
   "id": "5151a036-1f7e-4747-96a2-51db70aadf05",
   "metadata": {},
   "source": [
    "## Insights:\n",
    "\n",
    "* **Stockout Risk**: If the risk of stockouts is high, we might consider increasing safety stock levels or adjusting production schedules.\n",
    "  \n",
    "* **Profitability Distribution**: The spread of profitability gives an idea of the variability in financial outcomes, helping in financial planning.\n",
    "  \n",
    "* **Inventory Management**: The distribution of ending inventory levels helps refining inventory polices to minimize holding costs while avoiding stockouts.\n",
    "  "
   ]
  },
  {
   "cell_type": "markdown",
   "id": "2371be59-f93c-45d0-b02b-8625ae671492",
   "metadata": {},
   "source": [
    "## Strategy Recommendations:\n",
    "\n",
    "* **Flexible Production Schedules**: Consider implementing more flexible production schedules that can be adjusted dynamically based on real-time demand data.\n",
    "\n",
    "* **Safety Stock Adjustments**: Use the simulation to determine optimal safety stock levels that balance the costs of holding inventory against the risk of stockouts.\n",
    "\n",
    "* **Scenario Planning**: Regularly update the simulation with new data to reflect changes in demand patterns, ensuring that the company’s risk management strategies remain effective."
   ]
  },
  {
   "cell_type": "code",
   "execution_count": null,
   "id": "cb26df38-d19b-4bb3-baae-25c71a444bf6",
   "metadata": {},
   "outputs": [],
   "source": []
  }
 ],
 "metadata": {
  "kernelspec": {
   "display_name": "Python 3 (ipykernel)",
   "language": "python",
   "name": "python3"
  },
  "language_info": {
   "codemirror_mode": {
    "name": "ipython",
    "version": 3
   },
   "file_extension": ".py",
   "mimetype": "text/x-python",
   "name": "python",
   "nbconvert_exporter": "python",
   "pygments_lexer": "ipython3",
   "version": "3.11.7"
  }
 },
 "nbformat": 4,
 "nbformat_minor": 5
}
